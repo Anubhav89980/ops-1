{
 "cells": [
  {
   "cell_type": "code",
   "execution_count": 3,
   "id": "aefb3f6c-9348-4519-9df7-1c7ba874949e",
   "metadata": {},
   "outputs": [
    {
     "name": "stdout",
     "output_type": "stream",
     "text": [
      "Student with 75% marks scored a grade of C.\n"
     ]
    }
   ],
   "source": [
    "def calculate_grade(marks):\n",
    "  \"\"\"\n",
    "  This function takes a percentage score as input and returns the corresponding grade.\n",
    "\n",
    "  Args:\n",
    "    marks: An integer representing the percentage score.\n",
    "\n",
    "  Returns:\n",
    "    A string representing the grade.\n",
    "  \"\"\"\n",
    "  if marks > 90:\n",
    "    return \"A\"\n",
    "  elif marks > 80:\n",
    "    return \"B\"\n",
    "  elif marks >= 60:\n",
    "    return \"C\"\n",
    "  else:\n",
    "    return \"D\"\n",
    "\n",
    "# Example usage\n",
    "student_marks = 75\n",
    "grade = calculate_grade(student_marks)\n",
    "print(f\"Student with {student_marks}% marks scored a grade of {grade}.\")\n"
   ]
  },
  {
   "cell_type": "code",
   "execution_count": 4,
   "id": "efb91ea1-df88-45a8-861a-e880ebb85ab0",
   "metadata": {},
   "outputs": [
    {
     "name": "stdout",
     "output_type": "stream",
     "text": [
      "The road tax for a bike costing Rs.75000 is Rs.7500.00.\n"
     ]
    }
   ],
   "source": [
    "def calculate_road_tax(cost_price):\n",
    "  \"\"\"\n",
    "  This function takes the cost price of a bike and returns the road tax based on the provided criteria.\n",
    "\n",
    "  Args:\n",
    "    cost_price: An integer representing the bike's cost price in rupees.\n",
    "\n",
    "  Returns:\n",
    "    A float representing the road tax amount.\n",
    "  \"\"\"\n",
    "  if cost_price > 100000:\n",
    "    road_tax = cost_price * 0.15\n",
    "  elif cost_price > 50000:\n",
    "    road_tax = cost_price * 0.10\n",
    "  else:\n",
    "    road_tax = cost_price * 0.05\n",
    "\n",
    "  return road_tax\n",
    "\n",
    "# Example usage\n",
    "bike_cost = 75000\n",
    "road_tax_amount = calculate_road_tax(bike_cost)\n",
    "print(f\"The road tax for a bike costing Rs.{bike_cost} is Rs.{road_tax_amount:.2f}.\")"
   ]
  },
  {
   "cell_type": "code",
   "execution_count": 6,
   "id": "e9e79108-36fd-427c-9ce3-ffccad368ec4",
   "metadata": {},
   "outputs": [
    {
     "name": "stdin",
     "output_type": "stream",
     "text": [
      "Enter a city:  Jaipur\n"
     ]
    },
    {
     "name": "stdout",
     "output_type": "stream",
     "text": [
      "Sorry, I don't have information about monuments in Jaipur.\n"
     ]
    }
   ],
   "source": [
    "cities = {\n",
    "    \"Delhi\": [\"Red Fort [Image of Red Fort, Delhi](https://upload.wikimedia.org/wikipedia/commons/c/c7/Red_Fort_from_Yamuna_River.jpg)\", \"Taj Mahal [Image of Taj Mahal, Agra](https://upload.wikimedia.org/wikipedia/commons/thumb/e/eb/Taj_Mahal_Agra_India.jpg/800px-Taj_Mahal_Agra_India.jpg)\"],\n",
    "    \"Agra\": [\"Taj Mahal [Image of Taj Mahal, Agra](https://upload.wikimedia.org/wikipedia/commons/thumb/e/eb/Taj_Mahal_Agra_India.jpg/800px-Taj_Mahal_Agra_India.jpg)\"],\n",
    "    \"Jaipur\": [\"Jal Mahal [Image of Jal Mahal, Jaipur](https://upload.wikimedia.org/wikipedia/commons/thumb/0/09/Jal_Mahal_Jaipur2.jpg/800px-Jal_Mahal_Jaipur2.jpg)\"],\n",
    "}\n",
    "\n",
    "# Get user input\n",
    "user_city = input(\"Enter a city: \").lower()\n",
    "\n",
    "# Check if city exists in dictionary\n",
    "if user_city in cities:\n",
    "    print(f\"Famous monuments in {user_city.capitalize()}:\")\n",
    "    for monument in cities[user_city]:\n",
    "        print(monument)\n",
    "else:\n",
    "    print(f\"Sorry, I don't have information about monuments in {user_city.capitalize()}.\")\n"
   ]
  },
  {
   "cell_type": "code",
   "execution_count": 7,
   "id": "0064cd8c-819e-4fd2-a5e5-e29935e45455",
   "metadata": {},
   "outputs": [
    {
     "name": "stdout",
     "output_type": "stream",
     "text": [
      "The number 27 can be divided by 3 1 times before becoming less than or equal to 10.\n"
     ]
    }
   ],
   "source": [
    "def count_divisions_by_3(number):\n",
    "  \"\"\"\n",
    "  This function counts the number of times a given number can be divided by 3 before it becomes less than or equal to 10.\n",
    "\n",
    "  Args:\n",
    "    number: An integer representing the starting number.\n",
    "\n",
    "  Returns:\n",
    "    An integer representing the number of divisions by 3.\n",
    "  \"\"\"\n",
    "  count = 0\n",
    "  while number > 10:\n",
    "    number //= 3\n",
    "    count += 1\n",
    "  return count\n",
    "\n",
    "# Example usage\n",
    "starting_number = 27\n",
    "divisions = count_divisions_by_3(starting_number)\n",
    "print(f\"The number {starting_number} can be divided by 3 {divisions} times before becoming less than or equal to 10.\")\n"
   ]
  },
  {
   "cell_type": "code",
   "execution_count": 8,
   "id": "03881467-d92e-4b2c-9928-4eea48d73f60",
   "metadata": {},
   "outputs": [
    {
     "name": "stdin",
     "output_type": "stream",
     "text": [
      "Enter something (type 'quit' to exit):  8\n"
     ]
    },
    {
     "name": "stdout",
     "output_type": "stream",
     "text": [
      "You entered: 8\n"
     ]
    },
    {
     "name": "stdin",
     "output_type": "stream",
     "text": [
      "Enter something (type 'quit' to exit):  9\n"
     ]
    },
    {
     "name": "stdout",
     "output_type": "stream",
     "text": [
      "You entered: 9\n"
     ]
    },
    {
     "name": "stdin",
     "output_type": "stream",
     "text": [
      "Enter something (type 'quit' to exit):  9\n"
     ]
    },
    {
     "name": "stdout",
     "output_type": "stream",
     "text": [
      "You entered: 9\n"
     ]
    },
    {
     "name": "stdin",
     "output_type": "stream",
     "text": [
      "Enter something (type 'quit' to exit):  0\n"
     ]
    },
    {
     "name": "stdout",
     "output_type": "stream",
     "text": [
      "You entered: 0\n"
     ]
    },
    {
     "name": "stdin",
     "output_type": "stream",
     "text": [
      "Enter something (type 'quit' to exit):  67\n"
     ]
    },
    {
     "name": "stdout",
     "output_type": "stream",
     "text": [
      "You entered: 67\n"
     ]
    },
    {
     "name": "stdin",
     "output_type": "stream",
     "text": [
      "Enter something (type 'quit' to exit):  89\n"
     ]
    },
    {
     "name": "stdout",
     "output_type": "stream",
     "text": [
      "You entered: 89\n"
     ]
    },
    {
     "name": "stdin",
     "output_type": "stream",
     "text": [
      "Enter something (type 'quit' to exit):  89\n"
     ]
    },
    {
     "name": "stdout",
     "output_type": "stream",
     "text": [
      "You entered: 89\n"
     ]
    },
    {
     "name": "stdin",
     "output_type": "stream",
     "text": [
      "Enter something (type 'quit' to exit):  65676\n"
     ]
    },
    {
     "name": "stdout",
     "output_type": "stream",
     "text": [
      "You entered: 65676\n"
     ]
    },
    {
     "name": "stdin",
     "output_type": "stream",
     "text": [
      "Enter something (type 'quit' to exit):  878\n"
     ]
    },
    {
     "name": "stdout",
     "output_type": "stream",
     "text": [
      "You entered: 878\n"
     ]
    },
    {
     "name": "stdin",
     "output_type": "stream",
     "text": [
      "Enter something (type 'quit' to exit):  8998\n"
     ]
    },
    {
     "name": "stdout",
     "output_type": "stream",
     "text": [
      "You entered: 8998\n"
     ]
    },
    {
     "name": "stdin",
     "output_type": "stream",
     "text": [
      "Enter something (type 'quit' to exit):  9809\n"
     ]
    },
    {
     "name": "stdout",
     "output_type": "stream",
     "text": [
      "You entered: 9809\n"
     ]
    },
    {
     "name": "stdin",
     "output_type": "stream",
     "text": [
      "Enter something (type 'quit' to exit):  898\n"
     ]
    },
    {
     "name": "stdout",
     "output_type": "stream",
     "text": [
      "You entered: 898\n"
     ]
    },
    {
     "name": "stdin",
     "output_type": "stream",
     "text": [
      "Enter something (type 'quit' to exit):  89980\n"
     ]
    },
    {
     "name": "stdout",
     "output_type": "stream",
     "text": [
      "You entered: 89980\n"
     ]
    },
    {
     "name": "stdin",
     "output_type": "stream",
     "text": [
      "Enter something (type 'quit' to exit):  8989\n"
     ]
    },
    {
     "name": "stdout",
     "output_type": "stream",
     "text": [
      "You entered: 8989\n"
     ]
    },
    {
     "name": "stdin",
     "output_type": "stream",
     "text": [
      "Enter something (type 'quit' to exit):  8000\n"
     ]
    },
    {
     "name": "stdout",
     "output_type": "stream",
     "text": [
      "You entered: 8000\n"
     ]
    },
    {
     "name": "stdin",
     "output_type": "stream",
     "text": [
      "Enter something (type 'quit' to exit):  7\n"
     ]
    },
    {
     "name": "stdout",
     "output_type": "stream",
     "text": [
      "You entered: 7\n"
     ]
    },
    {
     "ename": "KeyboardInterrupt",
     "evalue": "Interrupted by user",
     "output_type": "error",
     "traceback": [
      "\u001b[0;31m---------------------------------------------------------------------------\u001b[0m",
      "\u001b[0;31mKeyboardInterrupt\u001b[0m                         Traceback (most recent call last)",
      "Cell \u001b[0;32mIn[8], line 3\u001b[0m\n\u001b[1;32m      1\u001b[0m \u001b[38;5;66;03m#The while loop is a powerful control flow statement in Python used to repeat a block of code as long as a certain condition remains true. It's an essential tool for iterating through unknown lengths of data, handling user input, and implementing various algorithms.\u001b[39;00m\n\u001b[1;32m      2\u001b[0m \u001b[38;5;28;01mwhile\u001b[39;00m \u001b[38;5;28;01mTrue\u001b[39;00m:\n\u001b[0;32m----> 3\u001b[0m   user_input \u001b[38;5;241m=\u001b[39m \u001b[38;5;28;43minput\u001b[39;49m\u001b[43m(\u001b[49m\u001b[38;5;124;43m\"\u001b[39;49m\u001b[38;5;124;43mEnter something (type \u001b[39;49m\u001b[38;5;124;43m'\u001b[39;49m\u001b[38;5;124;43mquit\u001b[39;49m\u001b[38;5;124;43m'\u001b[39;49m\u001b[38;5;124;43m to exit): \u001b[39;49m\u001b[38;5;124;43m\"\u001b[39;49m\u001b[43m)\u001b[49m\n\u001b[1;32m      4\u001b[0m   \u001b[38;5;28;01mif\u001b[39;00m user_input \u001b[38;5;241m==\u001b[39m \u001b[38;5;124m\"\u001b[39m\u001b[38;5;124mquit\u001b[39m\u001b[38;5;124m\"\u001b[39m:\n\u001b[1;32m      5\u001b[0m     \u001b[38;5;28;01mbreak\u001b[39;00m\n",
      "File \u001b[0;32m/opt/conda/lib/python3.10/site-packages/ipykernel/kernelbase.py:1175\u001b[0m, in \u001b[0;36mKernel.raw_input\u001b[0;34m(self, prompt)\u001b[0m\n\u001b[1;32m   1171\u001b[0m \u001b[38;5;28;01mif\u001b[39;00m \u001b[38;5;129;01mnot\u001b[39;00m \u001b[38;5;28mself\u001b[39m\u001b[38;5;241m.\u001b[39m_allow_stdin:\n\u001b[1;32m   1172\u001b[0m     \u001b[38;5;28;01mraise\u001b[39;00m StdinNotImplementedError(\n\u001b[1;32m   1173\u001b[0m         \u001b[38;5;124m\"\u001b[39m\u001b[38;5;124mraw_input was called, but this frontend does not support input requests.\u001b[39m\u001b[38;5;124m\"\u001b[39m\n\u001b[1;32m   1174\u001b[0m     )\n\u001b[0;32m-> 1175\u001b[0m \u001b[38;5;28;01mreturn\u001b[39;00m \u001b[38;5;28;43mself\u001b[39;49m\u001b[38;5;241;43m.\u001b[39;49m\u001b[43m_input_request\u001b[49m\u001b[43m(\u001b[49m\n\u001b[1;32m   1176\u001b[0m \u001b[43m    \u001b[49m\u001b[38;5;28;43mstr\u001b[39;49m\u001b[43m(\u001b[49m\u001b[43mprompt\u001b[49m\u001b[43m)\u001b[49m\u001b[43m,\u001b[49m\n\u001b[1;32m   1177\u001b[0m \u001b[43m    \u001b[49m\u001b[38;5;28;43mself\u001b[39;49m\u001b[38;5;241;43m.\u001b[39;49m\u001b[43m_parent_ident\u001b[49m\u001b[43m[\u001b[49m\u001b[38;5;124;43m\"\u001b[39;49m\u001b[38;5;124;43mshell\u001b[39;49m\u001b[38;5;124;43m\"\u001b[39;49m\u001b[43m]\u001b[49m\u001b[43m,\u001b[49m\n\u001b[1;32m   1178\u001b[0m \u001b[43m    \u001b[49m\u001b[38;5;28;43mself\u001b[39;49m\u001b[38;5;241;43m.\u001b[39;49m\u001b[43mget_parent\u001b[49m\u001b[43m(\u001b[49m\u001b[38;5;124;43m\"\u001b[39;49m\u001b[38;5;124;43mshell\u001b[39;49m\u001b[38;5;124;43m\"\u001b[39;49m\u001b[43m)\u001b[49m\u001b[43m,\u001b[49m\n\u001b[1;32m   1179\u001b[0m \u001b[43m    \u001b[49m\u001b[43mpassword\u001b[49m\u001b[38;5;241;43m=\u001b[39;49m\u001b[38;5;28;43;01mFalse\u001b[39;49;00m\u001b[43m,\u001b[49m\n\u001b[1;32m   1180\u001b[0m \u001b[43m\u001b[49m\u001b[43m)\u001b[49m\n",
      "File \u001b[0;32m/opt/conda/lib/python3.10/site-packages/ipykernel/kernelbase.py:1217\u001b[0m, in \u001b[0;36mKernel._input_request\u001b[0;34m(self, prompt, ident, parent, password)\u001b[0m\n\u001b[1;32m   1214\u001b[0m             \u001b[38;5;28;01mbreak\u001b[39;00m\n\u001b[1;32m   1215\u001b[0m \u001b[38;5;28;01mexcept\u001b[39;00m \u001b[38;5;167;01mKeyboardInterrupt\u001b[39;00m:\n\u001b[1;32m   1216\u001b[0m     \u001b[38;5;66;03m# re-raise KeyboardInterrupt, to truncate traceback\u001b[39;00m\n\u001b[0;32m-> 1217\u001b[0m     \u001b[38;5;28;01mraise\u001b[39;00m \u001b[38;5;167;01mKeyboardInterrupt\u001b[39;00m(\u001b[38;5;124m\"\u001b[39m\u001b[38;5;124mInterrupted by user\u001b[39m\u001b[38;5;124m\"\u001b[39m) \u001b[38;5;28;01mfrom\u001b[39;00m \u001b[38;5;28mNone\u001b[39m\n\u001b[1;32m   1218\u001b[0m \u001b[38;5;28;01mexcept\u001b[39;00m \u001b[38;5;167;01mException\u001b[39;00m:\n\u001b[1;32m   1219\u001b[0m     \u001b[38;5;28mself\u001b[39m\u001b[38;5;241m.\u001b[39mlog\u001b[38;5;241m.\u001b[39mwarning(\u001b[38;5;124m\"\u001b[39m\u001b[38;5;124mInvalid Message:\u001b[39m\u001b[38;5;124m\"\u001b[39m, exc_info\u001b[38;5;241m=\u001b[39m\u001b[38;5;28;01mTrue\u001b[39;00m)\n",
      "\u001b[0;31mKeyboardInterrupt\u001b[0m: Interrupted by user"
     ]
    }
   ],
   "source": [
    "#The while loop is a powerful control flow statement in Python used to repeat a block of code as long as a certain condition remains true. It's an essential tool for iterating through unknown lengths of data, handling user input, and implementing various algorithms.\n",
    "while True:\n",
    "  user_input = input(\"Enter something (type 'quit' to exit): \")\n",
    "  if user_input == \"quit\":\n",
    "    break\n",
    "  else:\n",
    "    print(f\"You entered: {user_input}\")\n",
    "\n",
    "print(\"Exiting the loop...\")\n"
   ]
  },
  {
   "cell_type": "code",
   "execution_count": null,
   "id": "47308293-b71b-4937-b049-dadef9727c27",
   "metadata": {},
   "outputs": [],
   "source": [
    "rows = 5\n",
    "\n",
    "for i in range(1, rows + 1):\n",
    "  for j in range(i):\n",
    "    print(\"*\", end=\" \")\n",
    "  print()"
   ]
  },
  {
   "cell_type": "code",
   "execution_count": null,
   "id": "f679417c-b1fa-4775-a006-1aa833228dca",
   "metadata": {},
   "outputs": [],
   "source": [
    "rows = 5\n",
    "\n",
    "for i in range(1, rows + 1):\n",
    "  for j in range(rows - i):\n",
    "    print(\" \", end=\" \")\n",
    "  for k in range(2 * i - 1):\n",
    "    print(\"*\", end=\" \")\n",
    "  print()\n",
    "\n",
    "for i in range(rows - 1, 0, -1):\n",
    "  for j in range(rows - i):\n",
    "    print(\" \", end=\" \")\n",
    "  for k in range(2 * i - 1):\n",
    "    print(\"*\", end=\" \")\n",
    "  print()"
   ]
  },
  {
   "cell_type": "code",
   "execution_count": null,
   "id": "9711ea08-61b7-494c-8c77-8d1fa8388620",
   "metadata": {},
   "outputs": [],
   "source": [
    "rows = 5\n",
    "columns = 5\n",
    "\n",
    "for i in range(rows):\n",
    "  for j in range(columns):\n",
    "    if (i + j) % 2 == 0:\n",
    "      print(\"*\", end=\" \")\n",
    "    else:\n",
    "      print(\" \", end=\" \")\n",
    "  print()"
   ]
  },
  {
   "cell_type": "code",
   "execution_count": null,
   "id": "9355ddd6-3fae-4b7e-b712-83d7c8b14d14",
   "metadata": {},
   "outputs": [],
   "source": []
  }
 ],
 "metadata": {
  "kernelspec": {
   "display_name": "Python 3 (ipykernel)",
   "language": "python",
   "name": "python3"
  },
  "language_info": {
   "codemirror_mode": {
    "name": "ipython",
    "version": 3
   },
   "file_extension": ".py",
   "mimetype": "text/x-python",
   "name": "python",
   "nbconvert_exporter": "python",
   "pygments_lexer": "ipython3",
   "version": "3.10.8"
  }
 },
 "nbformat": 4,
 "nbformat_minor": 5
}
